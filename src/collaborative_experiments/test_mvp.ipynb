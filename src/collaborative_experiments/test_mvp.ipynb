{
 "cells": [
  {
   "cell_type": "code",
   "execution_count": 15,
   "metadata": {},
   "outputs": [
    {
     "ename": "SyntaxError",
     "evalue": "'(' was never closed (mvp_loss_decrease.py, line 125)",
     "output_type": "error",
     "traceback": [
      "Traceback \u001b[0;36m(most recent call last)\u001b[0m:\n",
      "\u001b[0m  File \u001b[1;32m~/venv/lib/python3.11/site-packages/IPython/core/interactiveshell.py:3508\u001b[0m in \u001b[1;35mrun_code\u001b[0m\n    exec(code_obj, self.user_global_ns, self.user_ns)\u001b[0m\n",
      "\u001b[0m  Cell \u001b[1;32mIn[15], line 19\u001b[0m\n    reload(mvp_loss_decrease)\u001b[0m\n",
      "\u001b[0m  File \u001b[1;32m/usr/lib/python3.11/importlib/__init__.py:169\u001b[0m in \u001b[1;35mreload\u001b[0m\n    _bootstrap._exec(spec, module)\u001b[0m\n",
      "\u001b[0m  File \u001b[1;32m<frozen importlib._bootstrap>:621\u001b[0m in \u001b[1;35m_exec\u001b[0m\n",
      "\u001b[0m  File \u001b[1;32m<frozen importlib._bootstrap_external>:936\u001b[0m in \u001b[1;35mexec_module\u001b[0m\n",
      "\u001b[0m  File \u001b[1;32m<frozen importlib._bootstrap_external>:1074\u001b[0m in \u001b[1;35mget_code\u001b[0m\n",
      "\u001b[0m  File \u001b[1;32m<frozen importlib._bootstrap_external>:1004\u001b[0m in \u001b[1;35msource_to_code\u001b[0m\n",
      "\u001b[0;36m  File \u001b[0;32m<frozen importlib._bootstrap>:241\u001b[0;36m in \u001b[0;35m_call_with_frames_removed\u001b[0;36m\n",
      "\u001b[0;36m  File \u001b[0;32m~/Projects/CollaborativeTraining/src/collaborative_experiments/mvp_loss_decrease.py:125\u001b[0;36m\u001b[0m\n\u001b[0;31m    loss = loss_fn(logits[:, :-1].contiguous().view(-1, logits.size(-1)),\u001b[0m\n\u001b[0m                  ^\u001b[0m\n\u001b[0;31mSyntaxError\u001b[0m\u001b[0;31m:\u001b[0m '(' was never closed\n"
     ]
    }
   ],
   "source": [
    "# Standard library imports\n",
    "import os\n",
    "\n",
    "# Third-party imports\n",
    "import torch\n",
    "import numpy as np\n",
    "import pandas as pd\n",
    "import plotly.express as px\n",
    "from tqdm import tqdm\n",
    "from transformers import AutoModelForCausalLM, AutoTokenizer\n",
    "from importlib import reload\n",
    "\n",
    "import sys\n",
    "sys.path.insert(0, '/home/scottviteri/Projects/CollaborativeTraining/src')\n",
    "\n",
    "import mvp_loss_decrease\n",
    "\n",
    "# Reload the local module to reflect any changes\n",
    "reload(mvp_loss_decrease)\n",
    "\n",
    "# Import necessary functions from the local module\n",
    "from mvp_loss_decrease import (\n",
    "    get_device, \n",
    "    load_llama_model, \n",
    "    load_and_format_dataset, \n",
    "    ExperimentConfig, \n",
    "    create_helpful_message_1, \n",
    "    create_helpful_message_2, \n",
    "    run_experiment\n",
    ")"
   ]
  },
  {
   "cell_type": "code",
   "execution_count": 16,
   "metadata": {},
   "outputs": [
    {
     "name": "stdout",
     "output_type": "stream",
     "text": [
      "Loaded causal LM\n",
      "GPT2LMHeadModel(\n",
      "  (transformer): GPT2Model(\n",
      "    (wte): Embedding(50257, 768)\n",
      "    (wpe): Embedding(1024, 768)\n",
      "    (drop): Dropout(p=0.1, inplace=False)\n",
      "    (h): ModuleList(\n",
      "      (0-5): 6 x GPT2Block(\n",
      "        (ln_1): LayerNorm((768,), eps=1e-05, elementwise_affine=True)\n",
      "        (attn): GPT2Attention(\n",
      "          (c_attn): Conv1D()\n",
      "          (c_proj): Conv1D()\n",
      "          (attn_dropout): Dropout(p=0.1, inplace=False)\n",
      "          (resid_dropout): Dropout(p=0.1, inplace=False)\n",
      "        )\n",
      "        (ln_2): LayerNorm((768,), eps=1e-05, elementwise_affine=True)\n",
      "        (mlp): GPT2MLP(\n",
      "          (c_fc): Conv1D()\n",
      "          (c_proj): Conv1D()\n",
      "          (act): NewGELUActivation()\n",
      "          (dropout): Dropout(p=0.1, inplace=False)\n",
      "        )\n",
      "      )\n",
      "    )\n",
      "    (ln_f): LayerNorm((768,), eps=1e-05, elementwise_affine=True)\n",
      "  )\n",
      "  (lm_head): Linear(in_features=768, out_features=50257, bias=False)\n",
      ")\n",
      "Loaded causal LM to device\n"
     ]
    },
    {
     "name": "stderr",
     "output_type": "stream",
     "text": [
      "Found cached dataset text (/home/scottviteri/.cache/huggingface/datasets/text/default-01801ed3dc16f16b/0.0.0/cb1e9bd71a82ad27976be3b12b407850fe2837d80c22c5e03a28949843a8ace2)\n"
     ]
    },
    {
     "data": {
      "application/vnd.jupyter.widget-view+json": {
       "model_id": "0f60b152f9f546e09f6eecf52a32d917",
       "version_major": 2,
       "version_minor": 0
      },
      "text/plain": [
       "  0%|          | 0/1 [00:00<?, ?it/s]"
      ]
     },
     "metadata": {},
     "output_type": "display_data"
    },
    {
     "name": "stdout",
     "output_type": "stream",
     "text": [
      "DatasetDict({\n",
      "    train: Dataset({\n",
      "        features: ['text'],\n",
      "        num_rows: 16014\n",
      "    })\n",
      "})\n"
     ]
    },
    {
     "name": "stderr",
     "output_type": "stream",
     "text": [
      "Token indices sequence length is longer than the specified maximum sequence length for this model (233371 > 1024). Running this sequence through the model will result in indexing errors\n"
     ]
    },
    {
     "name": "stdout",
     "output_type": "stream",
     "text": [
      "torch.Size([260, 896])\n"
     ]
    },
    {
     "name": "stderr",
     "output_type": "stream",
     "text": [
      "Experiment original: 100%|██████████| 1/1 [00:00<00:00, 25.06it/s]\n",
      "Experiment: 100%|██████████| 1/1 [00:00<00:00, 23.79it/s]"
     ]
    },
    {
     "name": "stdout",
     "output_type": "stream",
     "text": [
      "hi torch.Size([895, 50257])\n",
      "bye torch.Size([895])\n",
      "experiment original had avg loss of 2.1345865726470947\n"
     ]
    },
    {
     "name": "stderr",
     "output_type": "stream",
     "text": [
      "\n"
     ]
    },
    {
     "data": {
      "application/vnd.plotly.v1+json": {
       "config": {
        "plotlyServerURL": "https://plot.ly"
       },
       "data": [
        {
         "hovertemplate": "variable=original<br>batch_index=%{x}<br>value=%{y}<extra></extra>",
         "legendgroup": "original",
         "line": {
          "color": "#636efa",
          "dash": "solid"
         },
         "marker": {
          "symbol": "circle"
         },
         "mode": "lines",
         "name": "original",
         "orientation": "h",
         "showlegend": true,
         "type": "scatter",
         "x": [
          0
         ],
         "xaxis": "x",
         "y": [
          2.1345865726470947
         ],
         "yaxis": "y"
        }
       ],
       "layout": {
        "legend": {
         "title": {
          "text": "variable"
         },
         "tracegroupgap": 0
        },
        "margin": {
         "t": 60
        },
        "template": {
         "data": {
          "bar": [
           {
            "error_x": {
             "color": "#2a3f5f"
            },
            "error_y": {
             "color": "#2a3f5f"
            },
            "marker": {
             "line": {
              "color": "#E5ECF6",
              "width": 0.5
             },
             "pattern": {
              "fillmode": "overlay",
              "size": 10,
              "solidity": 0.2
             }
            },
            "type": "bar"
           }
          ],
          "barpolar": [
           {
            "marker": {
             "line": {
              "color": "#E5ECF6",
              "width": 0.5
             },
             "pattern": {
              "fillmode": "overlay",
              "size": 10,
              "solidity": 0.2
             }
            },
            "type": "barpolar"
           }
          ],
          "carpet": [
           {
            "aaxis": {
             "endlinecolor": "#2a3f5f",
             "gridcolor": "white",
             "linecolor": "white",
             "minorgridcolor": "white",
             "startlinecolor": "#2a3f5f"
            },
            "baxis": {
             "endlinecolor": "#2a3f5f",
             "gridcolor": "white",
             "linecolor": "white",
             "minorgridcolor": "white",
             "startlinecolor": "#2a3f5f"
            },
            "type": "carpet"
           }
          ],
          "choropleth": [
           {
            "colorbar": {
             "outlinewidth": 0,
             "ticks": ""
            },
            "type": "choropleth"
           }
          ],
          "contour": [
           {
            "colorbar": {
             "outlinewidth": 0,
             "ticks": ""
            },
            "colorscale": [
             [
              0,
              "#0d0887"
             ],
             [
              0.1111111111111111,
              "#46039f"
             ],
             [
              0.2222222222222222,
              "#7201a8"
             ],
             [
              0.3333333333333333,
              "#9c179e"
             ],
             [
              0.4444444444444444,
              "#bd3786"
             ],
             [
              0.5555555555555556,
              "#d8576b"
             ],
             [
              0.6666666666666666,
              "#ed7953"
             ],
             [
              0.7777777777777778,
              "#fb9f3a"
             ],
             [
              0.8888888888888888,
              "#fdca26"
             ],
             [
              1,
              "#f0f921"
             ]
            ],
            "type": "contour"
           }
          ],
          "contourcarpet": [
           {
            "colorbar": {
             "outlinewidth": 0,
             "ticks": ""
            },
            "type": "contourcarpet"
           }
          ],
          "heatmap": [
           {
            "colorbar": {
             "outlinewidth": 0,
             "ticks": ""
            },
            "colorscale": [
             [
              0,
              "#0d0887"
             ],
             [
              0.1111111111111111,
              "#46039f"
             ],
             [
              0.2222222222222222,
              "#7201a8"
             ],
             [
              0.3333333333333333,
              "#9c179e"
             ],
             [
              0.4444444444444444,
              "#bd3786"
             ],
             [
              0.5555555555555556,
              "#d8576b"
             ],
             [
              0.6666666666666666,
              "#ed7953"
             ],
             [
              0.7777777777777778,
              "#fb9f3a"
             ],
             [
              0.8888888888888888,
              "#fdca26"
             ],
             [
              1,
              "#f0f921"
             ]
            ],
            "type": "heatmap"
           }
          ],
          "heatmapgl": [
           {
            "colorbar": {
             "outlinewidth": 0,
             "ticks": ""
            },
            "colorscale": [
             [
              0,
              "#0d0887"
             ],
             [
              0.1111111111111111,
              "#46039f"
             ],
             [
              0.2222222222222222,
              "#7201a8"
             ],
             [
              0.3333333333333333,
              "#9c179e"
             ],
             [
              0.4444444444444444,
              "#bd3786"
             ],
             [
              0.5555555555555556,
              "#d8576b"
             ],
             [
              0.6666666666666666,
              "#ed7953"
             ],
             [
              0.7777777777777778,
              "#fb9f3a"
             ],
             [
              0.8888888888888888,
              "#fdca26"
             ],
             [
              1,
              "#f0f921"
             ]
            ],
            "type": "heatmapgl"
           }
          ],
          "histogram": [
           {
            "marker": {
             "pattern": {
              "fillmode": "overlay",
              "size": 10,
              "solidity": 0.2
             }
            },
            "type": "histogram"
           }
          ],
          "histogram2d": [
           {
            "colorbar": {
             "outlinewidth": 0,
             "ticks": ""
            },
            "colorscale": [
             [
              0,
              "#0d0887"
             ],
             [
              0.1111111111111111,
              "#46039f"
             ],
             [
              0.2222222222222222,
              "#7201a8"
             ],
             [
              0.3333333333333333,
              "#9c179e"
             ],
             [
              0.4444444444444444,
              "#bd3786"
             ],
             [
              0.5555555555555556,
              "#d8576b"
             ],
             [
              0.6666666666666666,
              "#ed7953"
             ],
             [
              0.7777777777777778,
              "#fb9f3a"
             ],
             [
              0.8888888888888888,
              "#fdca26"
             ],
             [
              1,
              "#f0f921"
             ]
            ],
            "type": "histogram2d"
           }
          ],
          "histogram2dcontour": [
           {
            "colorbar": {
             "outlinewidth": 0,
             "ticks": ""
            },
            "colorscale": [
             [
              0,
              "#0d0887"
             ],
             [
              0.1111111111111111,
              "#46039f"
             ],
             [
              0.2222222222222222,
              "#7201a8"
             ],
             [
              0.3333333333333333,
              "#9c179e"
             ],
             [
              0.4444444444444444,
              "#bd3786"
             ],
             [
              0.5555555555555556,
              "#d8576b"
             ],
             [
              0.6666666666666666,
              "#ed7953"
             ],
             [
              0.7777777777777778,
              "#fb9f3a"
             ],
             [
              0.8888888888888888,
              "#fdca26"
             ],
             [
              1,
              "#f0f921"
             ]
            ],
            "type": "histogram2dcontour"
           }
          ],
          "mesh3d": [
           {
            "colorbar": {
             "outlinewidth": 0,
             "ticks": ""
            },
            "type": "mesh3d"
           }
          ],
          "parcoords": [
           {
            "line": {
             "colorbar": {
              "outlinewidth": 0,
              "ticks": ""
             }
            },
            "type": "parcoords"
           }
          ],
          "pie": [
           {
            "automargin": true,
            "type": "pie"
           }
          ],
          "scatter": [
           {
            "fillpattern": {
             "fillmode": "overlay",
             "size": 10,
             "solidity": 0.2
            },
            "type": "scatter"
           }
          ],
          "scatter3d": [
           {
            "line": {
             "colorbar": {
              "outlinewidth": 0,
              "ticks": ""
             }
            },
            "marker": {
             "colorbar": {
              "outlinewidth": 0,
              "ticks": ""
             }
            },
            "type": "scatter3d"
           }
          ],
          "scattercarpet": [
           {
            "marker": {
             "colorbar": {
              "outlinewidth": 0,
              "ticks": ""
             }
            },
            "type": "scattercarpet"
           }
          ],
          "scattergeo": [
           {
            "marker": {
             "colorbar": {
              "outlinewidth": 0,
              "ticks": ""
             }
            },
            "type": "scattergeo"
           }
          ],
          "scattergl": [
           {
            "marker": {
             "colorbar": {
              "outlinewidth": 0,
              "ticks": ""
             }
            },
            "type": "scattergl"
           }
          ],
          "scattermapbox": [
           {
            "marker": {
             "colorbar": {
              "outlinewidth": 0,
              "ticks": ""
             }
            },
            "type": "scattermapbox"
           }
          ],
          "scatterpolar": [
           {
            "marker": {
             "colorbar": {
              "outlinewidth": 0,
              "ticks": ""
             }
            },
            "type": "scatterpolar"
           }
          ],
          "scatterpolargl": [
           {
            "marker": {
             "colorbar": {
              "outlinewidth": 0,
              "ticks": ""
             }
            },
            "type": "scatterpolargl"
           }
          ],
          "scatterternary": [
           {
            "marker": {
             "colorbar": {
              "outlinewidth": 0,
              "ticks": ""
             }
            },
            "type": "scatterternary"
           }
          ],
          "surface": [
           {
            "colorbar": {
             "outlinewidth": 0,
             "ticks": ""
            },
            "colorscale": [
             [
              0,
              "#0d0887"
             ],
             [
              0.1111111111111111,
              "#46039f"
             ],
             [
              0.2222222222222222,
              "#7201a8"
             ],
             [
              0.3333333333333333,
              "#9c179e"
             ],
             [
              0.4444444444444444,
              "#bd3786"
             ],
             [
              0.5555555555555556,
              "#d8576b"
             ],
             [
              0.6666666666666666,
              "#ed7953"
             ],
             [
              0.7777777777777778,
              "#fb9f3a"
             ],
             [
              0.8888888888888888,
              "#fdca26"
             ],
             [
              1,
              "#f0f921"
             ]
            ],
            "type": "surface"
           }
          ],
          "table": [
           {
            "cells": {
             "fill": {
              "color": "#EBF0F8"
             },
             "line": {
              "color": "white"
             }
            },
            "header": {
             "fill": {
              "color": "#C8D4E3"
             },
             "line": {
              "color": "white"
             }
            },
            "type": "table"
           }
          ]
         },
         "layout": {
          "annotationdefaults": {
           "arrowcolor": "#2a3f5f",
           "arrowhead": 0,
           "arrowwidth": 1
          },
          "autotypenumbers": "strict",
          "coloraxis": {
           "colorbar": {
            "outlinewidth": 0,
            "ticks": ""
           }
          },
          "colorscale": {
           "diverging": [
            [
             0,
             "#8e0152"
            ],
            [
             0.1,
             "#c51b7d"
            ],
            [
             0.2,
             "#de77ae"
            ],
            [
             0.3,
             "#f1b6da"
            ],
            [
             0.4,
             "#fde0ef"
            ],
            [
             0.5,
             "#f7f7f7"
            ],
            [
             0.6,
             "#e6f5d0"
            ],
            [
             0.7,
             "#b8e186"
            ],
            [
             0.8,
             "#7fbc41"
            ],
            [
             0.9,
             "#4d9221"
            ],
            [
             1,
             "#276419"
            ]
           ],
           "sequential": [
            [
             0,
             "#0d0887"
            ],
            [
             0.1111111111111111,
             "#46039f"
            ],
            [
             0.2222222222222222,
             "#7201a8"
            ],
            [
             0.3333333333333333,
             "#9c179e"
            ],
            [
             0.4444444444444444,
             "#bd3786"
            ],
            [
             0.5555555555555556,
             "#d8576b"
            ],
            [
             0.6666666666666666,
             "#ed7953"
            ],
            [
             0.7777777777777778,
             "#fb9f3a"
            ],
            [
             0.8888888888888888,
             "#fdca26"
            ],
            [
             1,
             "#f0f921"
            ]
           ],
           "sequentialminus": [
            [
             0,
             "#0d0887"
            ],
            [
             0.1111111111111111,
             "#46039f"
            ],
            [
             0.2222222222222222,
             "#7201a8"
            ],
            [
             0.3333333333333333,
             "#9c179e"
            ],
            [
             0.4444444444444444,
             "#bd3786"
            ],
            [
             0.5555555555555556,
             "#d8576b"
            ],
            [
             0.6666666666666666,
             "#ed7953"
            ],
            [
             0.7777777777777778,
             "#fb9f3a"
            ],
            [
             0.8888888888888888,
             "#fdca26"
            ],
            [
             1,
             "#f0f921"
            ]
           ]
          },
          "colorway": [
           "#636efa",
           "#EF553B",
           "#00cc96",
           "#ab63fa",
           "#FFA15A",
           "#19d3f3",
           "#FF6692",
           "#B6E880",
           "#FF97FF",
           "#FECB52"
          ],
          "font": {
           "color": "#2a3f5f"
          },
          "geo": {
           "bgcolor": "white",
           "lakecolor": "white",
           "landcolor": "#E5ECF6",
           "showlakes": true,
           "showland": true,
           "subunitcolor": "white"
          },
          "hoverlabel": {
           "align": "left"
          },
          "hovermode": "closest",
          "mapbox": {
           "style": "light"
          },
          "paper_bgcolor": "white",
          "plot_bgcolor": "#E5ECF6",
          "polar": {
           "angularaxis": {
            "gridcolor": "white",
            "linecolor": "white",
            "ticks": ""
           },
           "bgcolor": "#E5ECF6",
           "radialaxis": {
            "gridcolor": "white",
            "linecolor": "white",
            "ticks": ""
           }
          },
          "scene": {
           "xaxis": {
            "backgroundcolor": "#E5ECF6",
            "gridcolor": "white",
            "gridwidth": 2,
            "linecolor": "white",
            "showbackground": true,
            "ticks": "",
            "zerolinecolor": "white"
           },
           "yaxis": {
            "backgroundcolor": "#E5ECF6",
            "gridcolor": "white",
            "gridwidth": 2,
            "linecolor": "white",
            "showbackground": true,
            "ticks": "",
            "zerolinecolor": "white"
           },
           "zaxis": {
            "backgroundcolor": "#E5ECF6",
            "gridcolor": "white",
            "gridwidth": 2,
            "linecolor": "white",
            "showbackground": true,
            "ticks": "",
            "zerolinecolor": "white"
           }
          },
          "shapedefaults": {
           "line": {
            "color": "#2a3f5f"
           }
          },
          "ternary": {
           "aaxis": {
            "gridcolor": "white",
            "linecolor": "white",
            "ticks": ""
           },
           "baxis": {
            "gridcolor": "white",
            "linecolor": "white",
            "ticks": ""
           },
           "bgcolor": "#E5ECF6",
           "caxis": {
            "gridcolor": "white",
            "linecolor": "white",
            "ticks": ""
           }
          },
          "title": {
           "x": 0.05
          },
          "xaxis": {
           "automargin": true,
           "gridcolor": "white",
           "linecolor": "white",
           "ticks": "",
           "title": {
            "standoff": 15
           },
           "zerolinecolor": "white",
           "zerolinewidth": 2
          },
          "yaxis": {
           "automargin": true,
           "gridcolor": "white",
           "linecolor": "white",
           "ticks": "",
           "title": {
            "standoff": 15
           },
           "zerolinecolor": "white",
           "zerolinewidth": 2
          }
         }
        },
        "title": {
         "text": "Losses, batch_size 1"
        },
        "xaxis": {
         "anchor": "y",
         "domain": [
          0,
          1
         ],
         "title": {
          "text": "batch_index"
         }
        },
        "yaxis": {
         "anchor": "x",
         "domain": [
          0,
          1
         ],
         "title": {
          "text": "value"
         }
        }
       }
      }
     },
     "metadata": {},
     "output_type": "display_data"
    },
    {
     "data": {
      "application/vnd.plotly.v1+json": {
       "config": {
        "plotlyServerURL": "https://plot.ly"
       },
       "data": [
        {
         "hovertemplate": "variable=original<br>position=%{x}<br>value=%{y}<extra></extra>",
         "legendgroup": "original",
         "line": {
          "color": "#636efa",
          "dash": "solid"
         },
         "marker": {
          "symbol": "circle"
         },
         "mode": "lines",
         "name": "original",
         "orientation": "v",
         "showlegend": true,
         "type": "scatter",
         "x": [
          0,
          1,
          2,
          3,
          4,
          5,
          6,
          7,
          8,
          9,
          10,
          11,
          12,
          13,
          14,
          15,
          16,
          17,
          18,
          19,
          20,
          21,
          22,
          23,
          24,
          25,
          26,
          27,
          28,
          29,
          30,
          31,
          32,
          33,
          34,
          35,
          36,
          37,
          38,
          39,
          40,
          41,
          42,
          43,
          44,
          45,
          46,
          47,
          48,
          49,
          50,
          51,
          52,
          53,
          54,
          55,
          56,
          57,
          58,
          59,
          60,
          61,
          62,
          63,
          64,
          65,
          66,
          67,
          68,
          69,
          70,
          71,
          72,
          73,
          74,
          75,
          76,
          77,
          78,
          79,
          80,
          81,
          82,
          83,
          84,
          85,
          86,
          87,
          88,
          89,
          90,
          91,
          92,
          93,
          94,
          95,
          96,
          97,
          98,
          99,
          100,
          101,
          102,
          103,
          104,
          105,
          106,
          107,
          108,
          109,
          110,
          111,
          112,
          113,
          114,
          115,
          116,
          117,
          118,
          119,
          120,
          121,
          122,
          123,
          124,
          125,
          126,
          127,
          128,
          129,
          130,
          131,
          132,
          133,
          134,
          135,
          136,
          137,
          138,
          139,
          140,
          141,
          142,
          143,
          144,
          145,
          146,
          147,
          148,
          149,
          150,
          151,
          152,
          153,
          154,
          155,
          156,
          157,
          158,
          159,
          160,
          161,
          162,
          163,
          164,
          165,
          166,
          167,
          168,
          169,
          170,
          171,
          172,
          173,
          174,
          175,
          176,
          177,
          178,
          179,
          180,
          181,
          182,
          183,
          184,
          185,
          186,
          187,
          188,
          189,
          190,
          191,
          192,
          193,
          194,
          195,
          196,
          197,
          198,
          199,
          200,
          201,
          202,
          203,
          204,
          205,
          206,
          207,
          208,
          209,
          210,
          211,
          212,
          213,
          214,
          215,
          216,
          217,
          218,
          219,
          220,
          221,
          222,
          223,
          224,
          225,
          226,
          227,
          228,
          229,
          230,
          231,
          232,
          233,
          234,
          235,
          236,
          237,
          238,
          239,
          240,
          241,
          242,
          243,
          244,
          245,
          246,
          247,
          248,
          249,
          250,
          251,
          252,
          253,
          254,
          255,
          256,
          257,
          258,
          259,
          260,
          261,
          262,
          263,
          264,
          265,
          266,
          267,
          268,
          269,
          270,
          271,
          272,
          273,
          274,
          275,
          276,
          277,
          278,
          279,
          280,
          281,
          282,
          283,
          284,
          285,
          286,
          287,
          288,
          289,
          290,
          291,
          292,
          293,
          294,
          295,
          296,
          297,
          298,
          299,
          300,
          301,
          302,
          303,
          304,
          305,
          306,
          307,
          308,
          309,
          310,
          311,
          312,
          313,
          314,
          315,
          316,
          317,
          318,
          319,
          320,
          321,
          322,
          323,
          324,
          325,
          326,
          327,
          328,
          329,
          330,
          331,
          332,
          333,
          334,
          335,
          336,
          337,
          338,
          339,
          340,
          341,
          342,
          343,
          344,
          345,
          346,
          347,
          348,
          349,
          350,
          351,
          352,
          353,
          354,
          355,
          356,
          357,
          358,
          359,
          360,
          361,
          362,
          363,
          364,
          365,
          366,
          367,
          368,
          369,
          370,
          371,
          372,
          373,
          374,
          375,
          376,
          377,
          378,
          379,
          380,
          381,
          382,
          383,
          384,
          385,
          386,
          387,
          388,
          389,
          390,
          391,
          392,
          393,
          394,
          395,
          396,
          397,
          398,
          399,
          400,
          401,
          402,
          403,
          404,
          405,
          406,
          407,
          408,
          409,
          410,
          411,
          412,
          413,
          414,
          415,
          416,
          417,
          418,
          419,
          420,
          421,
          422,
          423,
          424,
          425,
          426,
          427,
          428,
          429,
          430,
          431,
          432,
          433,
          434,
          435,
          436,
          437,
          438,
          439,
          440,
          441,
          442,
          443,
          444,
          445,
          446,
          447,
          448,
          449,
          450,
          451,
          452,
          453,
          454,
          455,
          456,
          457,
          458,
          459,
          460,
          461,
          462,
          463,
          464,
          465,
          466,
          467,
          468,
          469,
          470,
          471,
          472,
          473,
          474,
          475,
          476,
          477,
          478,
          479,
          480,
          481,
          482,
          483,
          484,
          485,
          486,
          487,
          488,
          489,
          490,
          491,
          492,
          493,
          494,
          495,
          496,
          497,
          498,
          499,
          500,
          501,
          502,
          503,
          504,
          505,
          506,
          507,
          508,
          509,
          510,
          511,
          512,
          513,
          514,
          515,
          516,
          517,
          518,
          519,
          520,
          521,
          522,
          523,
          524,
          525,
          526,
          527,
          528,
          529,
          530,
          531,
          532,
          533,
          534,
          535,
          536,
          537,
          538,
          539,
          540,
          541,
          542,
          543,
          544,
          545,
          546,
          547,
          548,
          549,
          550,
          551,
          552,
          553,
          554,
          555,
          556,
          557,
          558,
          559,
          560,
          561,
          562,
          563,
          564,
          565,
          566,
          567,
          568,
          569,
          570,
          571,
          572,
          573,
          574,
          575,
          576,
          577,
          578,
          579,
          580,
          581,
          582,
          583,
          584,
          585,
          586,
          587,
          588,
          589,
          590,
          591,
          592,
          593,
          594,
          595,
          596,
          597,
          598,
          599,
          600,
          601,
          602,
          603,
          604,
          605,
          606,
          607,
          608,
          609,
          610,
          611,
          612,
          613,
          614,
          615,
          616,
          617,
          618,
          619,
          620,
          621,
          622,
          623,
          624,
          625,
          626,
          627,
          628,
          629,
          630,
          631,
          632,
          633,
          634,
          635,
          636,
          637,
          638,
          639,
          640,
          641,
          642,
          643,
          644,
          645,
          646,
          647,
          648,
          649,
          650,
          651,
          652,
          653,
          654,
          655,
          656,
          657,
          658,
          659,
          660,
          661,
          662,
          663,
          664,
          665,
          666,
          667,
          668,
          669,
          670,
          671,
          672,
          673,
          674,
          675,
          676,
          677,
          678,
          679,
          680,
          681,
          682,
          683,
          684,
          685,
          686,
          687,
          688,
          689,
          690,
          691,
          692,
          693,
          694,
          695,
          696,
          697,
          698,
          699,
          700,
          701,
          702,
          703,
          704,
          705,
          706,
          707,
          708,
          709,
          710,
          711,
          712,
          713,
          714,
          715,
          716,
          717,
          718,
          719,
          720,
          721,
          722,
          723,
          724,
          725,
          726,
          727,
          728,
          729,
          730,
          731,
          732,
          733,
          734,
          735,
          736,
          737,
          738,
          739,
          740,
          741,
          742,
          743,
          744,
          745,
          746,
          747,
          748,
          749,
          750,
          751,
          752,
          753,
          754,
          755,
          756,
          757,
          758,
          759,
          760,
          761,
          762,
          763,
          764,
          765,
          766,
          767,
          768,
          769,
          770,
          771,
          772,
          773,
          774,
          775,
          776,
          777,
          778,
          779,
          780,
          781,
          782,
          783,
          784,
          785,
          786,
          787,
          788,
          789,
          790,
          791,
          792,
          793,
          794,
          795,
          796,
          797,
          798,
          799,
          800,
          801,
          802,
          803,
          804,
          805,
          806,
          807,
          808,
          809,
          810,
          811,
          812,
          813,
          814,
          815,
          816,
          817,
          818,
          819,
          820,
          821,
          822,
          823,
          824,
          825,
          826,
          827,
          828,
          829,
          830,
          831,
          832,
          833,
          834,
          835,
          836,
          837,
          838,
          839,
          840,
          841,
          842,
          843,
          844,
          845,
          846,
          847,
          848,
          849,
          850,
          851,
          852,
          853,
          854,
          855,
          856,
          857,
          858,
          859,
          860,
          861,
          862,
          863,
          864,
          865,
          866,
          867,
          868,
          869,
          870,
          871,
          872,
          873,
          874,
          875,
          876,
          877,
          878,
          879,
          880,
          881,
          882,
          883,
          884,
          885,
          886,
          887,
          888,
          889,
          890,
          891,
          892,
          893,
          894,
          895
         ],
         "xaxis": "x",
         "y": [
          0.012378852814435959,
          0.002054744167253375,
          0.000920265621971339,
          0.00009685437544248998,
          0.000021302328605088405,
          0.0006058341823518276,
          4.103019313195233e-11,
          0.0000036353237646835623,
          0.00011713304411387071,
          0.00003586609454941936,
          0.0001978361397050321,
          0.000002190647364841425,
          0.00003977472078986466,
          2.2248496378551863e-8,
          6.454384759990717e-8,
          7.204411289762902e-9,
          0.998189389705658,
          0.0007128258002921939,
          0.3345264196395874,
          0.7086403369903564,
          0.8028063774108887,
          0.9483752846717834,
          8.950495100634726e-8,
          0.0000035154437227902235,
          0.000014858424947306048,
          0.000008080034604063258,
          0.00048515276284888387,
          0.000002908656142608379,
          1.512283347437915e-7,
          0.0041321744211018085,
          0.002892985474318266,
          2.003194481403625e-7,
          5.234821855992777e-7,
          0.0000028318854674580507,
          7.657627634216624e-7,
          0.00038709293585270643,
          0.995846688747406,
          4.464922938041127e-7,
          9.879775220156262e-9,
          5.286369120227619e-10,
          8.904081028049404e-8,
          8.224025123126921e-7,
          7.347535913027059e-9,
          2.222088397729749e-7,
          3.625602289503149e-7,
          1.890784631086717e-7,
          0.000024767341528786346,
          0.000005971859081910225,
          1.4924275149041932e-7,
          0.000002679673343664035,
          8.326628631039057e-8,
          0.8345998525619507,
          5.194374375072641e-10,
          0.00010009844118030742,
          5.975874728392228e-8,
          3.980935403546937e-8,
          7.019035592747969e-7,
          0.000053500323701882735,
          1.4127378733519436e-7,
          0.000005831523594679311,
          2.453563041626694e-8,
          2.808431247558474e-7,
          0.000027553591280593537,
          0.000029300465030246414,
          6.787121265006135e-7,
          0.0000028353902052913327,
          1.919056469290581e-9,
          7.546399274360738e-7,
          0.000004309767064114567,
          0.0000010149428817385342,
          0.000009487296665611211,
          0.31132760643959045,
          2.4043742996582296e-7,
          0.000004617607828549808,
          2.474728200141385e-10,
          5.063973844698921e-7,
          0.0001720703876344487,
          9.15949669888505e-7,
          1.0709671371955665e-8,
          7.784346678363363e-8,
          0.0000015596177718180115,
          0.00015376845840364695,
          6.172815005811572e-7,
          0.9635831713676453,
          8.067569529091045e-11,
          1.582807556133048e-7,
          1.6087271514919621e-9,
          3.454539822603242e-12,
          1.7483660030848114e-7,
          8.36303257756299e-8,
          1.1730512028407247e-7,
          1.9738446610517713e-7,
          1.812334033957086e-7,
          0.000008395757504331414,
          0.000014545189515047241,
          0.00025642954278737307,
          0.00015345249266829342,
          0.0000012538426972241723,
          2.434811960938532e-7,
          0.0000030870810405758675,
          3.8031353710721305e-7,
          0.0000031778499760548584,
          0.09863664954900742,
          2.852912350803649e-10,
          9.976838555303402e-7,
          0.000002387672111581196,
          0.0000028492136152635794,
          0.00001001857435767306,
          0.00013286976900417358,
          0.0000033721435102052055,
          0.000016523506928933784,
          0.000005531356237042928,
          4.631872627669509e-7,
          0.0000022367230485542677,
          3.4305930540767804e-8,
          0.0000024284888695547124,
          0.00019012739358004183,
          0.014905674383044243,
          1.3605006010664056e-10,
          0.000003299320724181598,
          0.0000012836949281336274,
          8.477191393296835e-9,
          8.000725415513443e-7,
          0.7387405037879944,
          0.7468996047973633,
          0.00000905442993826,
          0.00004996489951736294,
          0.0032043387182056904,
          0.0000023752277229505125,
          0.00001686606992734596,
          0.00004105326297576539,
          0.000005212044925428927,
          0.00020078881061635911,
          0.00005351610161596909,
          0.000019038445316255093,
          3.3808106536525884e-7,
          0.000002610943283798406,
          0.00006713259062962607,
          0.01005364116281271,
          0.37971195578575134,
          0.0000010973521966661792,
          0.00007717000698903576,
          0.0003776216763071716,
          0.00013547661365009844,
          0.0002467130252625793,
          0.00010964326065732166,
          0.00014912286133039743,
          0.0000011167973070769222,
          0.1658560037612915,
          0.06255336105823517,
          7.006178970314636e-11,
          0.0000010572327937552473,
          0.000017235608538612723,
          0.000009038770258484874,
          0.000021823263523401693,
          0.00003661683513200842,
          0.00003817095057456754,
          0.000013006666449655313,
          0.00003016842674696818,
          0.0002272832061862573,
          0.002911605406552553,
          0.002638876438140869,
          0.000014380299035110511,
          0.00010825830395333469,
          0.000027519763534655795,
          0.299150288105011,
          0.24891719222068787,
          1.029444405276081e-7,
          1.0525152305262964e-7,
          0.0009473743266426027,
          0.9502792358398438,
          0.897228479385376,
          2.0591322424934333e-7,
          1.6328958452049847e-7,
          0.000028977585316170007,
          0.0009409495396539569,
          0.0000107991090771975,
          0.0000040485979297955055,
          1.382918779491149e-9,
          0.00000735345201974269,
          0.0003971536934841424,
          0.000014673500118078664,
          0.00012096306454623118,
          0.000010112705240317155,
          0.11134412884712219,
          0.1381797045469284,
          0.0000015467765024368418,
          0.0003740643442142755,
          0.00021917825506534427,
          0.000010370255949965212,
          0.000020572661014739424,
          0.0004069292335771024,
          0.0002667210646905005,
          0.000306306523270905,
          1.0293468477584611e-7,
          1.1052513571030431e-8,
          0.0000026093841825058917,
          8.313178617713746e-11,
          0.00023762948694638908,
          0.000277060957159847,
          3.482091415207833e-7,
          0.00003301933975308202,
          4.884251438852516e-7,
          0.000026954963686876,
          0.0026101176626980305,
          0.0000377710530301556,
          3.493649387564801e-7,
          0.000003660061565824435,
          0.000028328671760391444,
          0.0000025813872071012156,
          0.00009085351484827697,
          0.00002716099152166862,
          7.02708405242447e-7,
          0.00006184537778608501,
          0.000030003386200405657,
          0.0029128475580364466,
          0.00007656352681806311,
          0.0002806165430229157,
          0.0002503684372641146,
          0.0008752396679483354,
          0.00002000011045311112,
          0.001305108075030148,
          0.000013978033166495152,
          0.000004485824774747016,
          0.00014818664931226522,
          0.0000014242986026147264,
          0.0003105643263552338,
          0.007668229751288891,
          0.0022881620097905397,
          0.001272792462259531,
          0.00045992503874003887,
          0.005843359511345625,
          2.2448472236646921e-7,
          0.000010293231753166765,
          9.560059197610826e-7,
          5.337287944939817e-8,
          1.0711532993923356e-8,
          2.329749726470709e-9,
          0.0005099944537505507,
          1.535578633138357e-7,
          0.00238695926964283,
          0.0021270194556564093,
          3.074231074151612e-7,
          0.000060197358834557235,
          0.000024894694433896802,
          0.000022826463464298286,
          0.0006402302533388138,
          7.035026339252681e-9,
          0.00006215536268427968,
          0.0005403350223787129,
          0.0006089397356845438,
          6.764448130525125e-7,
          3.5579995483203675e-7,
          0.001403131172992289,
          0.000003673461378639331,
          5.288827651384054e-7,
          0.022655436769127846,
          0.001310323248617351,
          0.0012429344933480024,
          0.0012049474753439426,
          0.02688976563513279,
          0.00006150693661766127,
          0.000006297105755947996,
          0.00023912837787065655,
          0.000019873064957209863,
          0.000005971756763756275,
          4.097329409091799e-8,
          8.337120327439607e-9,
          1.6012623405003978e-7,
          0.010011011734604836,
          0.005450909957289696,
          0.0008431512978859246,
          1.6641786260152003e-7,
          1.9378941829018004e-7,
          0.000014206331798050087,
          0.0007088127313181758,
          0.0012511798413470387,
          0.002821756061166525,
          0.28469061851501465,
          0.5118788480758667,
          0.7767711281776428,
          0.7957916259765625,
          0.7733323574066162,
          0.7463079690933228,
          0.7326355576515198,
          0.7322221398353577,
          0.7406783103942871,
          0.7533496618270874,
          0.7705737352371216,
          0.7871828079223633,
          0.8016130328178406,
          0.8144899606704712,
          0.8241817951202393,
          0.8296973705291748,
          0.834722638130188,
          0.8382529020309448,
          0.8407722115516663,
          0.842859148979187,
          0.8446715474128723,
          0.844343900680542,
          0.8449440598487854,
          0.846237301826477,
          0.8463042974472046,
          0.8462551236152649,
          0.8464189767837524,
          0.8475605845451355,
          0.8478211760520935,
          0.8491357564926147,
          0.0020464251283556223,
          0.0000053510434554482345,
          0.0002418345247860998,
          0.005003053694963455,
          0.9722363948822021,
          0.9784975051879883,
          0.981844425201416,
          0.9809578657150269,
          0.9796807169914246,
          0.9769864678382874,
          0.9719966650009155,
          0.9645386338233948,
          0.9545626640319824,
          0.9416818022727966,
          0.9264851808547974,
          0.910167396068573,
          0.8943009376525879,
          0.8781095743179321,
          0.8650615215301514,
          0.8543932437896729,
          0.8436159491539001,
          0.8360756635665894,
          0.8308244943618774,
          0.826560914516449,
          0.8243523836135864,
          0.8234659433364868,
          0.8236484527587891,
          0.8247367739677429,
          0.8261711597442627,
          0.8283597826957703,
          0.8331298828125,
          0.8361788392066956,
          0.8371830582618713,
          0.8422467112541199,
          0.0013034003786742687,
          0.000006842906259407755,
          2.2074922867432178e-7,
          2.1139587857987863e-8,
          0.0000031344291073764907,
          0.007040319032967091,
          0.987038791179657,
          0.9920931458473206,
          0.9947543144226074,
          0.9955403208732605,
          0.9958778619766235,
          0.9958750605583191,
          0.9955341815948486,
          0.9948646426200867,
          0.9936083555221558,
          0.9919894337654114,
          0.9894636869430542,
          0.9860891103744507,
          0.9818102121353149,
          0.9759653806686401,
          0.9693458080291748,
          0.9626758098602295,
          0.9544039964675903,
          0.946018397808075,
          0.9374913573265076,
          0.9293721914291382,
          0.9220716953277588,
          0.9175379276275635,
          0.9093805551528931,
          0.9041602611541748,
          0.8997003436088562,
          0.8976719379425049,
          0.8977559208869934,
          0.8931682109832764,
          0.8940232992172241,
          0.8914298415184021,
          0.891563892364502,
          0.8915040493011475,
          0.8917206525802612,
          0.8913220763206482,
          0.023799795657396317,
          0.0033662947826087475,
          0.9936721324920654,
          0.9949402809143066,
          0.9954904913902283,
          0.9951757192611694,
          0.9943225383758545,
          0.9929333925247192,
          0.990840494632721,
          0.9884415864944458,
          0.9852902889251709,
          0.9816036224365234,
          0.9776458144187927,
          0.9728259444236755,
          0.967492938041687,
          0.9622198939323425,
          0.9573401808738708,
          0.9517775177955627,
          0.9477439522743225,
          0.9433348774909973,
          0.9388144016265869,
          0.9353944659233093,
          0.9319928884506226,
          0.9286802411079407,
          0.9269734025001526,
          0.9251663088798523,
          0.9231895208358765,
          0.9215073585510254,
          0.000056766173656797037,
          1.4411623006083119e-8,
          3.3882238881233206e-7,
          0.0001010533596854657,
          1.9553905161728835e-8,
          6.422019396268297e-7,
          0.0012201550416648388,
          0.9880157113075256,
          0.9945216178894043,
          0.9962617754936218,
          0.9968888163566589,
          0.9972410202026367,
          0.9973957538604736,
          0.9974071383476257,
          0.9972413778305054,
          0.9969202280044556,
          0.9964151382446289,
          0.9956888556480408,
          0.9946075081825256,
          0.9933518171310425,
          0.9916651844978333,
          0.9895514845848083,
          0.9868752956390381,
          0.9834429621696472,
          0.9796978235244751,
          0.9748076796531677,
          0.9694348573684692,
          0.9644383788108826,
          0.9579877257347107,
          0.9522005915641785,
          0.9459922313690186,
          0.9400702714920044,
          0.93455970287323,
          0.9301131963729858,
          0.9244673848152161,
          0.9209800958633423,
          0.9166617393493652,
          0.9126584529876709,
          0.9102020859718323,
          0.9064767956733704,
          0.9043692350387573,
          0.9037401080131531,
          0.0018127732910215855,
          0.0030114329420030117,
          0.9812606573104858,
          0.9849550724029541,
          0.9881762266159058,
          0.9904475212097168,
          0.9904078841209412,
          0.9884538054466248,
          0.9849855899810791,
          0.9805684089660645,
          0.9746866822242737,
          0.9673445820808411,
          0.9587779641151428,
          0.949919581413269,
          0.9410869479179382,
          0.930870771408081,
          0.9211484789848328,
          0.912619411945343,
          0.9025185108184814,
          0.895649254322052,
          0.8883178234100342,
          0.8818506002426147,
          0.8756030201911926,
          0.8707123398780823,
          0.8652769923210144,
          0.8629665374755859,
          0.8579294085502625,
          0.8555660843849182,
          0.8549033403396606,
          0.8536415100097656,
          0.028048118576407433,
          0.000016909511032281443,
          0.000005181925189390313,
          0.00030422676354646683,
          0.000012147183042543475,
          0.0005603739991784096,
          0.00030438898829743266,
          0.00014683233166579157,
          0.00004589664240484126,
          0.0000021075791210023453,
          0.000054015945352148265,
          0.0037089891266077757,
          0.9879201650619507,
          0.9932982325553894,
          0.9955872297286987,
          0.9963601231575012,
          0.996597945690155,
          0.004129523877054453,
          0.0001118740692618303,
          0.00006916202983120456,
          0.00022029220417607576,
          0.000030496636099996977,
          0.00001648152101552114,
          0.00035569086321629584,
          0.000003912778538506245,
          0.00011049347813241184,
          0.000022122158043202944,
          0.0012260179501026869,
          1.7613389502457721e-7,
          0.00021218309120740741,
          0.00040018162690103054,
          0.00004160122261964716,
          0.000004770632131112507,
          0.000035179378755856305,
          0.00014358382031787187,
          0.0000012711227554973448,
          0.000003781129180424614,
          0.000035256260161986575,
          0.00011359072232153267,
          0.000030477802283712663,
          0.000026131767299375497,
          7.666649821658211e-7,
          0.0000017851859865913866,
          0.000013035088159085717,
          0.000013757312444795389,
          0.00011050572356907651,
          4.253323027114675e-7,
          0.0000032556804399064276,
          0.00003267812280682847,
          0.0000034578463328216458,
          0.0000018678446167541551,
          0.007655060384422541,
          0.9894992113113403,
          0.9956003427505493,
          0.9962538480758667,
          0.9961872696876526,
          0.9959775805473328,
          0.9958474040031433,
          0.0000018418664922137395,
          0.00009675687761045992,
          0.0000024497626327502076,
          0.00011971182539127767,
          0.0001490601571276784,
          0.003207107074558735,
          0.000035401375498622656,
          0.0001322613679803908,
          2.3729838005692727e-7,
          0.000504067400470376,
          0.000053685871534980834,
          0.0000671602101647295,
          6.272017571973265e-7,
          5.478598836816673e-7,
          0.00000544885278941365,
          0.0002371533337282017,
          0.00012944170157425106,
          0.000026999730835086666,
          0.001329706166870892,
          0.0006915899575687945,
          0.0000024421078705927357,
          0.0010153834009543061,
          0.00014090357581153512,
          0.014741875231266022,
          0.9816200733184814,
          0.9880457520484924,
          0.994013249874115,
          0.9949170351028442,
          0.000020673098333645612,
          0.00008731896377867088,
          0.0001387782540405169,
          0.0004263012669980526,
          0.0015432260697707534,
          0.000002774885842882213,
          0.00009725899144541472,
          0.000011720694601535797,
          0.0003970912075601518,
          0.00010644082794897258,
          0.00006504753400804475,
          0.00004616144360625185,
          8.49399883762203e-10,
          0.000004692952188634081,
          2.0320134463958084e-9,
          0.000023092814444680698,
          0.00004603860361385159,
          0.0002563197922427207,
          0.00006339365791063756,
          0.0003054550033994019,
          1.8700157511375437e-7,
          0.000005966762273601489,
          0.002411989960819483,
          0.0000017342342744086636,
          0.00046334724174812436,
          0.000025018332962645218,
          0.023041512817144394,
          0.9915459752082825,
          0.9846558570861816,
          0.9643048048019409,
          0.9259059429168701,
          0.00002133973794116173,
          0.000001594916852809547,
          0.00006176558235893026,
          0.00011097779497504234,
          0.0003514536365401,
          2.444840951909555e-8,
          0.00019529482233338058,
          0.00004283607631805353,
          0.000006687212135148002,
          0.000001333808427261829,
          0.00009026773477671668,
          0.000011325886589474976,
          0.000012900570254714694,
          0.004594186786562204,
          0.0002351507864659652,
          0.002087842207401991,
          0.000003494738621157012,
          0.0002664698113221675,
          0.000005082614279672271,
          0.000003484502940409584,
          0.00010884480434469879,
          0.005698526278138161,
          0.0000013104427125654183,
          1.2539111082787713e-7,
          0.02279159612953663,
          0.9945006370544434,
          0.9401707053184509,
          0.3482252359390259,
          0.22873622179031372,
          0.3976861536502838,
          0.7002208232879639,
          0.8705479502677917,
          0.9374700784683228,
          0.9602513313293457,
          0.9688887596130371,
          0.9720421433448792,
          0.0020288124214857817,
          0.003753331722691655,
          9.521968991066387e-9,
          4.3283282025186054e-7,
          0.000053488303819904104,
          0.000006187969574966701,
          1.2298760054818558e-7,
          0.000012708204849332105,
          0.0001336056157015264,
          0.0031655668281018734,
          0.0020124223083257675,
          0.000003926321824110346,
          0.000008748655091039836,
          0.0016173761105164886,
          0.00000458584463558509,
          0.0000010278793070028769,
          1.0486144591537183e-10,
          0.0000032597431527392473,
          0.002327834954485297,
          0.9924387335777283,
          0.9908278584480286,
          0.9750381112098694,
          0.93324875831604,
          0.9137588739395142,
          0.9230340123176575,
          0.9417267441749573,
          0.9529679417610168,
          0.961760401725769,
          0.9653469324111938,
          0.9665576815605164,
          0.9655270576477051,
          0.9641663432121277,
          0.9613511562347412,
          0.9591168761253357,
          0.955670952796936,
          0.9516604542732239,
          0.9485543966293335,
          0.9456996917724609,
          0.9427310228347778,
          0.9399704337120056,
          0.9374357461929321,
          0.9352917075157166,
          0.9345412850379944,
          0.9319820404052734,
          0.9303392767906189,
          0.9314031600952148,
          0.9303374290466309,
          0.9312593340873718,
          0.9297619462013245,
          0.9308590888977051,
          0.9315555095672607,
          0.9322373270988464,
          0.000040148283005692065,
          0.023616190999746323,
          0.9953462481498718,
          0.9946371912956238,
          0.9939992427825928,
          0.9927030801773071,
          0.9887886643409729,
          0.981963038444519,
          0.9809746146202087,
          0.984377384185791,
          0.9872117638587952,
          0.9879434704780579,
          0.9876590371131897,
          0.9865103363990784,
          0.9848248362541199,
          0.9825432896614075,
          0.9797955751419067,
          0.9771803021430969,
          0.9738898277282715,
          0.9709320068359375,
          0.9680955410003662,
          0.9653236865997314,
          0.962940514087677,
          0.9602280855178833,
          0.9590764045715332,
          0.000056071014114422724,
          0.000012738784789689817,
          0.000011423348041716963,
          0.0003405795432627201,
          0.0019318386912345886,
          0.0015947234351187944,
          0.000003283050773461582,
          0.0002115996612701565,
          0.05250408500432968,
          0.9976262450218201,
          0.997384250164032,
          0.9967269897460938,
          0.9959211349487305,
          0.9954352974891663,
          0.9950259327888489,
          0.9943208694458008,
          0.9929792284965515,
          0.9911642670631409,
          0.9886348247528076,
          0.9852663278579712,
          0.9812887907028198,
          0.9766023755073547,
          0.9712575674057007,
          0.9661173820495605,
          0.9606550335884094,
          0.9570364356040955,
          0.9516673684120178,
          0.9471831321716309,
          0.9438139200210571,
          0.0015793915372341871,
          0.001645550481043756,
          0.00003966605072491802,
          0.002234057290479541,
          0.00002301525637449231,
          2.702885808503197e-7,
          5.681676498170418e-7,
          0.00019093716400675476,
          0.00002883514571294654,
          0.000004470509338716511,
          0.054049067199230194,
          0.9973057508468628,
          0.9971019625663757,
          0.9961996674537659,
          0.9949396848678589,
          0.9942573308944702,
          0.9939004182815552,
          0.993130624294281,
          0.9919198751449585,
          0.989997386932373,
          0.9875011444091797,
          0.9838122725486755,
          0.9796459078788757,
          0.974266529083252,
          0.9675805568695068,
          0.9606354832649231,
          0.9537621736526489,
          0.9457652568817139,
          0.9399244785308838,
          0.9330981969833374,
          0.9262039661407471,
          0.9219675064086914,
          0.9186919927597046,
          0.9141173362731934,
          0.9116513133049011,
          0.909247636795044,
          0.9073485732078552,
          0.906988799571991,
          0.9068272113800049,
          0.9071035385131836,
          0.9055910706520081,
          0.906756579875946,
          0.9093778729438782,
          0.9067001938819885,
          0.9096909761428833,
          0.00007164285489125177,
          0.00218201894313097,
          0.99315345287323,
          0.9952621459960938,
          0.9960060715675354,
          0.9964591860771179,
          0.9965704679489136,
          0.9964284300804138,
          0.9960289001464844,
          0.9952970147132874,
          0.994266927242279,
          0.9930784106254578,
          0.9916918277740479,
          0.9898496866226196,
          0.987604022026062,
          0.9853471517562866,
          0.9827128648757935,
          0.9795514345169067,
          0.9769202470779419,
          0.9745399355888367,
          0.9716960191726685,
          0.9686422944068909,
          0.9657535552978516,
          0.9646218419075012,
          0.9619015455245972,
          0.9604578614234924,
          0.9589875340461731,
          0.009609793312847614,
          0.00022533767332788557,
          4.139174620831909e-7,
          0.00327265914529562,
          0.01768224500119686,
          0.0011608522618189454,
          0.001287375926040113,
          0.007920272648334503,
          0.00006950450188014656,
          0.00008014997001737356,
          9.944635621650377e-7,
          0.0013696854002773762,
          0.022224875167012215,
          2.6880246650762274e-7,
          0.0000700143282301724,
          0.000028511711207102053,
          0.00005024607526138425,
          0.00021179446775931865,
          0.00002999681601068005,
          0.000016186519133043475,
          0.00019004600471816957,
          0.0008353170123882592,
          0.00001012177290249383,
          0.000103678998129908,
          0.00005532384602702223,
          0.000019916838937206194,
          0.006102228537201881,
          6.537397894135211e-7,
          0.00044382072519510984,
          0.0011732304701581597,
          0.000038461468648165464,
          0.000004117684056836879,
          0.0000711008469806984,
          0.00021887393086217344,
          0.0017360517522320151,
          0.008149223402142525,
          0.0026053327601403,
          0.0007020030170679092,
          0.0009106929646804929,
          0.00007618865492986515,
          0.0008066563168540597,
          0.0000012587845503730932,
          0.000037124878872418776,
          0.00008137138502206653,
          0.0000033331111808365677,
          0.00016678948304615915,
          0.00014611480582971126,
          0.0005602496094070375,
          0.00037086784141138196,
          0.0005070591578260064,
          0.000051071838242933154,
          0.0000015261914541042643,
          0.0005087768658995628,
          0.0014270812971517444,
          0.0009535651188343763,
          0.000019132754459860735,
          0.0002534208178985864,
          0.0003733647463377565,
          0.0022365932818502188,
          1.7450905431815045e-7,
          0.000287313450826332,
          0.0005478821694850922,
          0.0004983835387974977,
          0.0000015870027709752321,
          0.00028221437241882086,
          0.0000064869636844377965,
          0.0008157941047102213,
          1.247810388349535e-7,
          0.0000025205742986145196,
          0.0002457992814015597,
          0.00007334018300753087,
          0.000014803244084760081,
          0.002117678988724947,
          0.00015611077833455056,
          6.204283309330094e-9,
          0.0002372872259002179,
          0.005942853633314371,
          0.00005120968125993386,
          0.0000025894410100590903,
          0.00019660538237076253,
          0.0016595459310337901,
          0.0020851618610322475,
          0.0005559111014008522
         ],
         "yaxis": "y"
        }
       ],
       "layout": {
        "legend": {
         "title": {
          "text": "variable"
         },
         "tracegroupgap": 0
        },
        "margin": {
         "t": 60
        },
        "template": {
         "data": {
          "bar": [
           {
            "error_x": {
             "color": "#2a3f5f"
            },
            "error_y": {
             "color": "#2a3f5f"
            },
            "marker": {
             "line": {
              "color": "#E5ECF6",
              "width": 0.5
             },
             "pattern": {
              "fillmode": "overlay",
              "size": 10,
              "solidity": 0.2
             }
            },
            "type": "bar"
           }
          ],
          "barpolar": [
           {
            "marker": {
             "line": {
              "color": "#E5ECF6",
              "width": 0.5
             },
             "pattern": {
              "fillmode": "overlay",
              "size": 10,
              "solidity": 0.2
             }
            },
            "type": "barpolar"
           }
          ],
          "carpet": [
           {
            "aaxis": {
             "endlinecolor": "#2a3f5f",
             "gridcolor": "white",
             "linecolor": "white",
             "minorgridcolor": "white",
             "startlinecolor": "#2a3f5f"
            },
            "baxis": {
             "endlinecolor": "#2a3f5f",
             "gridcolor": "white",
             "linecolor": "white",
             "minorgridcolor": "white",
             "startlinecolor": "#2a3f5f"
            },
            "type": "carpet"
           }
          ],
          "choropleth": [
           {
            "colorbar": {
             "outlinewidth": 0,
             "ticks": ""
            },
            "type": "choropleth"
           }
          ],
          "contour": [
           {
            "colorbar": {
             "outlinewidth": 0,
             "ticks": ""
            },
            "colorscale": [
             [
              0,
              "#0d0887"
             ],
             [
              0.1111111111111111,
              "#46039f"
             ],
             [
              0.2222222222222222,
              "#7201a8"
             ],
             [
              0.3333333333333333,
              "#9c179e"
             ],
             [
              0.4444444444444444,
              "#bd3786"
             ],
             [
              0.5555555555555556,
              "#d8576b"
             ],
             [
              0.6666666666666666,
              "#ed7953"
             ],
             [
              0.7777777777777778,
              "#fb9f3a"
             ],
             [
              0.8888888888888888,
              "#fdca26"
             ],
             [
              1,
              "#f0f921"
             ]
            ],
            "type": "contour"
           }
          ],
          "contourcarpet": [
           {
            "colorbar": {
             "outlinewidth": 0,
             "ticks": ""
            },
            "type": "contourcarpet"
           }
          ],
          "heatmap": [
           {
            "colorbar": {
             "outlinewidth": 0,
             "ticks": ""
            },
            "colorscale": [
             [
              0,
              "#0d0887"
             ],
             [
              0.1111111111111111,
              "#46039f"
             ],
             [
              0.2222222222222222,
              "#7201a8"
             ],
             [
              0.3333333333333333,
              "#9c179e"
             ],
             [
              0.4444444444444444,
              "#bd3786"
             ],
             [
              0.5555555555555556,
              "#d8576b"
             ],
             [
              0.6666666666666666,
              "#ed7953"
             ],
             [
              0.7777777777777778,
              "#fb9f3a"
             ],
             [
              0.8888888888888888,
              "#fdca26"
             ],
             [
              1,
              "#f0f921"
             ]
            ],
            "type": "heatmap"
           }
          ],
          "heatmapgl": [
           {
            "colorbar": {
             "outlinewidth": 0,
             "ticks": ""
            },
            "colorscale": [
             [
              0,
              "#0d0887"
             ],
             [
              0.1111111111111111,
              "#46039f"
             ],
             [
              0.2222222222222222,
              "#7201a8"
             ],
             [
              0.3333333333333333,
              "#9c179e"
             ],
             [
              0.4444444444444444,
              "#bd3786"
             ],
             [
              0.5555555555555556,
              "#d8576b"
             ],
             [
              0.6666666666666666,
              "#ed7953"
             ],
             [
              0.7777777777777778,
              "#fb9f3a"
             ],
             [
              0.8888888888888888,
              "#fdca26"
             ],
             [
              1,
              "#f0f921"
             ]
            ],
            "type": "heatmapgl"
           }
          ],
          "histogram": [
           {
            "marker": {
             "pattern": {
              "fillmode": "overlay",
              "size": 10,
              "solidity": 0.2
             }
            },
            "type": "histogram"
           }
          ],
          "histogram2d": [
           {
            "colorbar": {
             "outlinewidth": 0,
             "ticks": ""
            },
            "colorscale": [
             [
              0,
              "#0d0887"
             ],
             [
              0.1111111111111111,
              "#46039f"
             ],
             [
              0.2222222222222222,
              "#7201a8"
             ],
             [
              0.3333333333333333,
              "#9c179e"
             ],
             [
              0.4444444444444444,
              "#bd3786"
             ],
             [
              0.5555555555555556,
              "#d8576b"
             ],
             [
              0.6666666666666666,
              "#ed7953"
             ],
             [
              0.7777777777777778,
              "#fb9f3a"
             ],
             [
              0.8888888888888888,
              "#fdca26"
             ],
             [
              1,
              "#f0f921"
             ]
            ],
            "type": "histogram2d"
           }
          ],
          "histogram2dcontour": [
           {
            "colorbar": {
             "outlinewidth": 0,
             "ticks": ""
            },
            "colorscale": [
             [
              0,
              "#0d0887"
             ],
             [
              0.1111111111111111,
              "#46039f"
             ],
             [
              0.2222222222222222,
              "#7201a8"
             ],
             [
              0.3333333333333333,
              "#9c179e"
             ],
             [
              0.4444444444444444,
              "#bd3786"
             ],
             [
              0.5555555555555556,
              "#d8576b"
             ],
             [
              0.6666666666666666,
              "#ed7953"
             ],
             [
              0.7777777777777778,
              "#fb9f3a"
             ],
             [
              0.8888888888888888,
              "#fdca26"
             ],
             [
              1,
              "#f0f921"
             ]
            ],
            "type": "histogram2dcontour"
           }
          ],
          "mesh3d": [
           {
            "colorbar": {
             "outlinewidth": 0,
             "ticks": ""
            },
            "type": "mesh3d"
           }
          ],
          "parcoords": [
           {
            "line": {
             "colorbar": {
              "outlinewidth": 0,
              "ticks": ""
             }
            },
            "type": "parcoords"
           }
          ],
          "pie": [
           {
            "automargin": true,
            "type": "pie"
           }
          ],
          "scatter": [
           {
            "fillpattern": {
             "fillmode": "overlay",
             "size": 10,
             "solidity": 0.2
            },
            "type": "scatter"
           }
          ],
          "scatter3d": [
           {
            "line": {
             "colorbar": {
              "outlinewidth": 0,
              "ticks": ""
             }
            },
            "marker": {
             "colorbar": {
              "outlinewidth": 0,
              "ticks": ""
             }
            },
            "type": "scatter3d"
           }
          ],
          "scattercarpet": [
           {
            "marker": {
             "colorbar": {
              "outlinewidth": 0,
              "ticks": ""
             }
            },
            "type": "scattercarpet"
           }
          ],
          "scattergeo": [
           {
            "marker": {
             "colorbar": {
              "outlinewidth": 0,
              "ticks": ""
             }
            },
            "type": "scattergeo"
           }
          ],
          "scattergl": [
           {
            "marker": {
             "colorbar": {
              "outlinewidth": 0,
              "ticks": ""
             }
            },
            "type": "scattergl"
           }
          ],
          "scattermapbox": [
           {
            "marker": {
             "colorbar": {
              "outlinewidth": 0,
              "ticks": ""
             }
            },
            "type": "scattermapbox"
           }
          ],
          "scatterpolar": [
           {
            "marker": {
             "colorbar": {
              "outlinewidth": 0,
              "ticks": ""
             }
            },
            "type": "scatterpolar"
           }
          ],
          "scatterpolargl": [
           {
            "marker": {
             "colorbar": {
              "outlinewidth": 0,
              "ticks": ""
             }
            },
            "type": "scatterpolargl"
           }
          ],
          "scatterternary": [
           {
            "marker": {
             "colorbar": {
              "outlinewidth": 0,
              "ticks": ""
             }
            },
            "type": "scatterternary"
           }
          ],
          "surface": [
           {
            "colorbar": {
             "outlinewidth": 0,
             "ticks": ""
            },
            "colorscale": [
             [
              0,
              "#0d0887"
             ],
             [
              0.1111111111111111,
              "#46039f"
             ],
             [
              0.2222222222222222,
              "#7201a8"
             ],
             [
              0.3333333333333333,
              "#9c179e"
             ],
             [
              0.4444444444444444,
              "#bd3786"
             ],
             [
              0.5555555555555556,
              "#d8576b"
             ],
             [
              0.6666666666666666,
              "#ed7953"
             ],
             [
              0.7777777777777778,
              "#fb9f3a"
             ],
             [
              0.8888888888888888,
              "#fdca26"
             ],
             [
              1,
              "#f0f921"
             ]
            ],
            "type": "surface"
           }
          ],
          "table": [
           {
            "cells": {
             "fill": {
              "color": "#EBF0F8"
             },
             "line": {
              "color": "white"
             }
            },
            "header": {
             "fill": {
              "color": "#C8D4E3"
             },
             "line": {
              "color": "white"
             }
            },
            "type": "table"
           }
          ]
         },
         "layout": {
          "annotationdefaults": {
           "arrowcolor": "#2a3f5f",
           "arrowhead": 0,
           "arrowwidth": 1
          },
          "autotypenumbers": "strict",
          "coloraxis": {
           "colorbar": {
            "outlinewidth": 0,
            "ticks": ""
           }
          },
          "colorscale": {
           "diverging": [
            [
             0,
             "#8e0152"
            ],
            [
             0.1,
             "#c51b7d"
            ],
            [
             0.2,
             "#de77ae"
            ],
            [
             0.3,
             "#f1b6da"
            ],
            [
             0.4,
             "#fde0ef"
            ],
            [
             0.5,
             "#f7f7f7"
            ],
            [
             0.6,
             "#e6f5d0"
            ],
            [
             0.7,
             "#b8e186"
            ],
            [
             0.8,
             "#7fbc41"
            ],
            [
             0.9,
             "#4d9221"
            ],
            [
             1,
             "#276419"
            ]
           ],
           "sequential": [
            [
             0,
             "#0d0887"
            ],
            [
             0.1111111111111111,
             "#46039f"
            ],
            [
             0.2222222222222222,
             "#7201a8"
            ],
            [
             0.3333333333333333,
             "#9c179e"
            ],
            [
             0.4444444444444444,
             "#bd3786"
            ],
            [
             0.5555555555555556,
             "#d8576b"
            ],
            [
             0.6666666666666666,
             "#ed7953"
            ],
            [
             0.7777777777777778,
             "#fb9f3a"
            ],
            [
             0.8888888888888888,
             "#fdca26"
            ],
            [
             1,
             "#f0f921"
            ]
           ],
           "sequentialminus": [
            [
             0,
             "#0d0887"
            ],
            [
             0.1111111111111111,
             "#46039f"
            ],
            [
             0.2222222222222222,
             "#7201a8"
            ],
            [
             0.3333333333333333,
             "#9c179e"
            ],
            [
             0.4444444444444444,
             "#bd3786"
            ],
            [
             0.5555555555555556,
             "#d8576b"
            ],
            [
             0.6666666666666666,
             "#ed7953"
            ],
            [
             0.7777777777777778,
             "#fb9f3a"
            ],
            [
             0.8888888888888888,
             "#fdca26"
            ],
            [
             1,
             "#f0f921"
            ]
           ]
          },
          "colorway": [
           "#636efa",
           "#EF553B",
           "#00cc96",
           "#ab63fa",
           "#FFA15A",
           "#19d3f3",
           "#FF6692",
           "#B6E880",
           "#FF97FF",
           "#FECB52"
          ],
          "font": {
           "color": "#2a3f5f"
          },
          "geo": {
           "bgcolor": "white",
           "lakecolor": "white",
           "landcolor": "#E5ECF6",
           "showlakes": true,
           "showland": true,
           "subunitcolor": "white"
          },
          "hoverlabel": {
           "align": "left"
          },
          "hovermode": "closest",
          "mapbox": {
           "style": "light"
          },
          "paper_bgcolor": "white",
          "plot_bgcolor": "#E5ECF6",
          "polar": {
           "angularaxis": {
            "gridcolor": "white",
            "linecolor": "white",
            "ticks": ""
           },
           "bgcolor": "#E5ECF6",
           "radialaxis": {
            "gridcolor": "white",
            "linecolor": "white",
            "ticks": ""
           }
          },
          "scene": {
           "xaxis": {
            "backgroundcolor": "#E5ECF6",
            "gridcolor": "white",
            "gridwidth": 2,
            "linecolor": "white",
            "showbackground": true,
            "ticks": "",
            "zerolinecolor": "white"
           },
           "yaxis": {
            "backgroundcolor": "#E5ECF6",
            "gridcolor": "white",
            "gridwidth": 2,
            "linecolor": "white",
            "showbackground": true,
            "ticks": "",
            "zerolinecolor": "white"
           },
           "zaxis": {
            "backgroundcolor": "#E5ECF6",
            "gridcolor": "white",
            "gridwidth": 2,
            "linecolor": "white",
            "showbackground": true,
            "ticks": "",
            "zerolinecolor": "white"
           }
          },
          "shapedefaults": {
           "line": {
            "color": "#2a3f5f"
           }
          },
          "ternary": {
           "aaxis": {
            "gridcolor": "white",
            "linecolor": "white",
            "ticks": ""
           },
           "baxis": {
            "gridcolor": "white",
            "linecolor": "white",
            "ticks": ""
           },
           "bgcolor": "#E5ECF6",
           "caxis": {
            "gridcolor": "white",
            "linecolor": "white",
            "ticks": ""
           }
          },
          "title": {
           "x": 0.05
          },
          "xaxis": {
           "automargin": true,
           "gridcolor": "white",
           "linecolor": "white",
           "ticks": "",
           "title": {
            "standoff": 15
           },
           "zerolinecolor": "white",
           "zerolinewidth": 2
          },
          "yaxis": {
           "automargin": true,
           "gridcolor": "white",
           "linecolor": "white",
           "ticks": "",
           "title": {
            "standoff": 15
           },
           "zerolinecolor": "white",
           "zerolinewidth": 2
          }
         }
        },
        "title": {
         "text": "Probability of correct token at each position"
        },
        "xaxis": {
         "anchor": "y",
         "domain": [
          0,
          1
         ],
         "title": {
          "text": "position"
         }
        },
        "yaxis": {
         "anchor": "x",
         "domain": [
          0,
          1
         ],
         "title": {
          "text": "value"
         }
        }
       }
      }
     },
     "metadata": {},
     "output_type": "display_data"
    }
   ],
   "source": [
    "MAX_CONTEXT_LENGTH = 1024\n",
    "\n",
    "device = get_device()\n",
    "model_name = \"distilgpt2\"\n",
    "if model_name == \"llama\":\n",
    "    from llama import Llama\n",
    "    from llama.model import ModelArgs, Transformer\n",
    "    from llama.tokenizer import Tokenizer\n",
    "    causal_lm, causal_lm_tokenizer = load_llama_model(device=device)\n",
    "elif model_name == \"gpt2\":\n",
    "    causal_lm = AutoModelForCausalLM.from_pretrained(\"gpt2\")\n",
    "    causal_lm_tokenizer = AutoTokenizer.from_pretrained(\"gpt2\")\n",
    "elif model_name == \"gpt-neo\":\n",
    "    causal_lm = AutoModelForCausalLM.from_pretrained(\"EleutherAI/gpt-neo-2.7B\")\n",
    "    causal_lm_tokenizer = AutoTokenizer.from_pretrained(\"EleutherAI/gpt-neo-2.7B\")\n",
    "else:\n",
    "    causal_lm = AutoModelForCausalLM.from_pretrained(\"distilgpt2\")\n",
    "    causal_lm_tokenizer = AutoTokenizer.from_pretrained(\"distilgpt2\")\n",
    "print(\"Loaded causal LM\")\n",
    "print(causal_lm)\n",
    "causal_lm = causal_lm.to(device)\n",
    "print(\"Loaded causal LM to device\")\n",
    "\n",
    "save_dir=\"results_debug\"\n",
    "debug=True\n",
    "BATCH_SIZE = 1\n",
    "reduced_data=1\n",
    "\n",
    "# load dataset\n",
    "# https://www.gutenberg.org/ebooks/71431\n",
    "textbook_1_path =  '/home/scottviteri/Projects/CollaborativeTraining/data/st_patrick_biography.txt' \n",
    "reshaped_tensor = load_and_format_dataset(textbook_1_path, causal_lm_tokenizer, debug=debug, reduced_data=reduced_data)\n",
    "## make a pytorch data loader for the dataset\n",
    "dataset_1_loader = torch.utils.data.DataLoader(reshaped_tensor, batch_size=BATCH_SIZE, shuffle=True)\n",
    "\n",
    "loss_fn = torch.nn.CrossEntropyLoss()\n",
    "\n",
    "experiments = []\n",
    "experiments.append(ExperimentConfig(lambda x: x, reshaped_tensor.shape[1], \"original\"))\n",
    "#experiments.append(ExperimentConfig(create_helpful_message_1, MAX_CONTEXT_LENGTH, \"helpful_message_1\"))\n",
    "#experiments.append(ExperimentConfig(create_helpful_message_2, reshaped_tensor.shape[1], \"helpful_message_2\"))\n",
    "\n",
    "losses_dict = {}\n",
    "correct_probs_all_dict = {}\n",
    "for experiment in tqdm(experiments, desc=\"Experiment\"):\n",
    "    losses, correct_probs_all = run_experiment(experiment, dataset_1_loader, causal_lm, loss_fn, device)\n",
    "    losses_dict[experiment.name] = losses\n",
    "    correct_probs_all_dict[experiment.name] = correct_probs_all.clone().numpy() / (len(dataset_1_loader) * BATCH_SIZE)\n",
    "    \n",
    "for exp_name, losses in losses_dict.items():\n",
    "    print(f\"experiment {exp_name} had avg loss of {np.mean(losses)}\")\n",
    "\n",
    "if not os.path.exists(f\"{save_dir}\"):\n",
    "    os.makedirs(f\"{save_dir}\")\n",
    "# plot the losses on the same graph\n",
    "df = pd.DataFrame(losses_dict)\n",
    "df[\"batch_index\"] = df.index\n",
    "df = df.melt(id_vars=[\"batch_index\"], value_vars=list(losses_dict.keys()))\n",
    "fig = px.line(df, x=\"batch_index\", y=\"value\", color=\"variable\")\n",
    "fig.update_layout(title=f\"Losses, batch_size {BATCH_SIZE}\")\n",
    "fig.show()\n",
    "fig.write_html(f\"{save_dir}/losses.html\")\n",
    "\n",
    "# plot the per token posisions on the same graph\n",
    "# normalize the lengths of the different experiments by padding to the max one with zeros\n",
    "max_len = max([len(x) for x in correct_probs_all_dict.values()])\n",
    "for exp_name, correct_probs_all in correct_probs_all_dict.items():\n",
    "    if len(correct_probs_all) < max_len:\n",
    "        correct_probs_all_dict[exp_name] = np.pad(correct_probs_all, (0, max_len - len(correct_probs_all)), \"constant\", constant_values=0)\n",
    "df = pd.DataFrame(correct_probs_all_dict)\n",
    "df[\"position\"] = df.index\n",
    "df = df.melt(id_vars=[\"position\"], value_vars=list(correct_probs_all_dict.keys()))\n",
    "fig = px.line(df, x=\"position\", y=\"value\", color=\"variable\")\n",
    "fig.update_layout(title=\"Probability of correct token at each position\")\n",
    "fig.show()\n",
    "fig.write_html(f\"{save_dir}/probability_of_correct_token_at_each_position.html\")\n"
   ]
  },
  {
   "cell_type": "code",
   "execution_count": null,
   "metadata": {},
   "outputs": [],
   "source": []
  },
  {
   "cell_type": "code",
   "execution_count": null,
   "metadata": {},
   "outputs": [],
   "source": []
  }
 ],
 "metadata": {
  "kernelspec": {
   "display_name": "venv",
   "language": "python",
   "name": "python3"
  },
  "language_info": {
   "codemirror_mode": {
    "name": "ipython",
    "version": 3
   },
   "file_extension": ".py",
   "mimetype": "text/x-python",
   "name": "python",
   "nbconvert_exporter": "python",
   "pygments_lexer": "ipython3",
   "version": "3.11.3"
  },
  "orig_nbformat": 4
 },
 "nbformat": 4,
 "nbformat_minor": 2
}
