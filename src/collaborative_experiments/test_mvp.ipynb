{
 "cells": [
  {
   "cell_type": "code",
   "execution_count": 2,
   "metadata": {},
   "outputs": [],
   "source": [
    "from collaborative_experiments.mvp_loss_decrease import ExperimentConfig, get_device, load_and_format_dataset, create_helpful_message_1, create_helpful_message_2, train_step, display_results, run_experiment, load_llama_model\n",
    "import torch\n",
    "from transformers import AutoModelForCausalLM, AutoTokenizer"
   ]
  },
  {
   "cell_type": "code",
   "execution_count": 4,
   "metadata": {},
   "outputs": [
    {
     "name": "stderr",
     "output_type": "stream",
     "text": [
      "Found cached dataset text (/home/scottviteri/.cache/huggingface/datasets/text/default-01801ed3dc16f16b/0.0.0/cb1e9bd71a82ad27976be3b12b407850fe2837d80c22c5e03a28949843a8ace2)\n"
     ]
    },
    {
     "data": {
      "application/vnd.jupyter.widget-view+json": {
       "model_id": "13856b00bde5420daa175d14299fa2ab",
       "version_major": 2,
       "version_minor": 0
      },
      "text/plain": [
       "  0%|          | 0/1 [00:00<?, ?it/s]"
      ]
     },
     "metadata": {},
     "output_type": "display_data"
    },
    {
     "name": "stdout",
     "output_type": "stream",
     "text": [
      "DatasetDict({\n",
      "    train: Dataset({\n",
      "        features: ['text'],\n",
      "        num_rows: 16014\n",
      "    })\n",
      "})\n"
     ]
    },
    {
     "name": "stderr",
     "output_type": "stream",
     "text": [
      "Token indices sequence length is longer than the specified maximum sequence length for this model (233371 > 1024). Running this sequence through the model will result in indexing errors\n"
     ]
    },
    {
     "name": "stdout",
     "output_type": "stream",
     "text": [
      "torch.Size([260, 896])\n"
     ]
    }
   ],
   "source": [
    "causal_lm = AutoModelForCausalLM.from_pretrained(\"distilgpt2\")\n",
    "causal_lm_tokenizer = AutoTokenizer.from_pretrained(\"distilgpt2\")\n",
    "# https://www.gutenberg.org/ebooks/71431\n",
    "textbook_1_path = \"/home/scottviteri/Projects/CollaborativeTraining/data/st_patrick_biography.txt\"\n",
    "reshaped_tensor = load_and_format_dataset(textbook_1_path, causal_lm_tokenizer, debug=True)\n",
    "## make a pytorch data loader for the dataset\n",
    "dataset_1_loader = torch.utils.data.DataLoader(reshaped_tensor, batch_size=10, shuffle=True)\n",
    "\n"
   ]
  },
  {
   "cell_type": "code",
   "execution_count": 10,
   "metadata": {},
   "outputs": [
    {
     "name": "stdout",
     "output_type": "stream",
     "text": [
      "tensor([50, 51, 52, 50, 51, 52, 50, 51, 52, 50])\n",
      "STUSTUSTUS\n"
     ]
    }
   ],
   "source": [
    "## sample some values from the loader and convert the tokens into a string\n",
    "data_iter = iter(dataset_1_loader)\n",
    "sample = next(data_iter)\n",
    "print(sample[0][:10])\n",
    "sample_string = causal_lm_tokenizer.decode(sample[0], skip_special_tokens=True)\n",
    "print(sample_string[:10])\n"
   ]
  },
  {
   "cell_type": "code",
   "execution_count": 11,
   "metadata": {},
   "outputs": [
    {
     "ename": "AttributeError",
     "evalue": "'Tensor' object has no attribute 'config'",
     "output_type": "error",
     "traceback": [
      "\u001b[0;31m---------------------------------------------------------------------------\u001b[0m",
      "\u001b[0;31mAttributeError\u001b[0m                            Traceback (most recent call last)",
      "Cell \u001b[0;32mIn[11], line 6\u001b[0m\n\u001b[1;32m      3\u001b[0m correct_probs_all \u001b[39m=\u001b[39m torch\u001b[39m.\u001b[39mzeros([\u001b[39m10\u001b[39m, reshaped_tensor\u001b[39m.\u001b[39mshape[\u001b[39m1\u001b[39m]])  \u001b[39m# Initialize correct_probs_all\u001b[39;00m\n\u001b[1;32m      5\u001b[0m \u001b[39m# Call train_step with the additional arguments\u001b[39;00m\n\u001b[0;32m----> 6\u001b[0m train_step(causal_lm, sample, torch\u001b[39m.\u001b[39;49moptim\u001b[39m.\u001b[39;49mAdam(causal_lm\u001b[39m.\u001b[39;49mparameters(), lr\u001b[39m=\u001b[39;49m\u001b[39m0.001\u001b[39;49m), device, correct_probs_all)\n",
      "File \u001b[0;32m~/venv/lib/python3.11/site-packages/collaborative_experiments/mvp_loss_decrease.py:114\u001b[0m, in \u001b[0;36mtrain_step\u001b[0;34m(batch, causal_lm, loss_fn, device, correct_probs_all, verbose, debug)\u001b[0m\n\u001b[1;32m    110\u001b[0m \u001b[39mdef\u001b[39;00m \u001b[39mtrain_step\u001b[39m(batch, causal_lm, loss_fn, device, correct_probs_all, verbose\u001b[39m=\u001b[39m\u001b[39mFalse\u001b[39;00m, debug\u001b[39m=\u001b[39m\u001b[39mFalse\u001b[39;00m):\n\u001b[1;32m    111\u001b[0m     \u001b[39m# make labels from the batch, one hot encoded of shape (batch_size, seq_len, vocab_size)\u001b[39;00m\n\u001b[1;32m    112\u001b[0m     \u001b[39m# e.g. [[4, 1, 5]] -> [[[0, 0, 0, 0, 1, 0], [0, 1, 0, 0, 0, 0], [0, 0, 0, 0, 0, 1]]]\u001b[39;00m\n\u001b[1;32m    113\u001b[0m     batch \u001b[39m=\u001b[39m batch\u001b[39m.\u001b[39mto(device)\n\u001b[0;32m--> 114\u001b[0m     labels \u001b[39m=\u001b[39m torch\u001b[39m.\u001b[39mnn\u001b[39m.\u001b[39mfunctional\u001b[39m.\u001b[39mone_hot(batch, num_classes\u001b[39m=\u001b[39mcausal_lm\u001b[39m.\u001b[39;49mconfig\u001b[39m.\u001b[39mvocab_size)\u001b[39m.\u001b[39mto(torch\u001b[39m.\u001b[39mfloat32)\n\u001b[1;32m    115\u001b[0m     outputs_original \u001b[39m=\u001b[39m causal_lm(input_ids\u001b[39m=\u001b[39mbatch\u001b[39m.\u001b[39mto(device)) \u001b[39m# maybe I don't want past_ke_values to be returned? what is that?\u001b[39;00m\n\u001b[1;32m    116\u001b[0m     \u001b[39m# at this point outputs_original is logits and past_key_values\u001b[39;00m\n",
      "\u001b[0;31mAttributeError\u001b[0m: 'Tensor' object has no attribute 'config'"
     ]
    }
   ],
   "source": [
    "## make a sample call to train_step\n",
    "device = get_device()  # Get the appropriate device\n",
    "correct_probs_all = torch.zeros([10, reshaped_tensor.shape[1]])  # Initialize correct_probs_all\n",
    "# Call train_step with the additional arguments\n",
    "train_step(causal_lm, sample, torch.optim.Adam(causal_lm.parameters(), lr=0.001), device, correct_probs_all)\n"
   ]
  }
 ],
 "metadata": {
  "kernelspec": {
   "display_name": "venv",
   "language": "python",
   "name": "python3"
  },
  "language_info": {
   "codemirror_mode": {
    "name": "ipython",
    "version": 3
   },
   "file_extension": ".py",
   "mimetype": "text/x-python",
   "name": "python",
   "nbconvert_exporter": "python",
   "pygments_lexer": "ipython3",
   "version": "3.11.3"
  },
  "orig_nbformat": 4
 },
 "nbformat": 4,
 "nbformat_minor": 2
}
